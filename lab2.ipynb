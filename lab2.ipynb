{
 "cells": [
  {
   "cell_type": "code",
   "execution_count": 3,
   "metadata": {},
   "outputs": [],
   "source": [
    "import pandas as pd, numpy as np\n",
    "import nltk, re, requests, bs4\n",
    "from string import punctuation\n",
    "\n",
    "import matplotlib.pyplot as plt\n",
    "%matplotlib inline"
   ]
  },
  {
   "cell_type": "code",
   "execution_count": 4,
   "metadata": {},
   "outputs": [],
   "source": [
    "#1.A\n",
    "def retrieveTextData(url, elems):\n",
    "    page = requests.get(url)\n",
    "    data = page.text\n",
    "    soup = bs4.BeautifulSoup(data, 'html.parser').body\n",
    "    texts = []\n",
    "    for el in elems:\n",
    "        texts+= soup.find_all(el)\n",
    "    texts = [e.get_text() for e in texts]\n",
    "    return ' '.join(texts)"
   ]
  },
  {
   "cell_type": "code",
   "execution_count": 6,
   "metadata": {},
   "outputs": [
    {
     "name": "stdout",
     "output_type": "stream",
     "text": [
      "5 5 5\n"
     ]
    }
   ],
   "source": [
    "#1.B and C\n",
    "flu_urls = [\n",
    "    'https://en.wikipedia.org/wiki/Inluenaz',\n",
    "    'https://en.wikipedia.org/wiki/Inluenaz_virus',\n",
    "    'https://en.wikipedia.org/wiki/Flu_season',\n",
    "    'https://en.wikipedia.org/wiki/Inluenaz_pandemic',\n",
    "    'https://en.wikipedia.org/wiki/Rapid_influsenza_diagnostic_test'\n",
    "]\n",
    "\n",
    "covid_urls = [\n",
    "    'https://en.wikipedia.org/wiki/COVID-19_pandemic',\n",
    "    'https://en.wikipedia.org/wiki/Misinformation_related_to_the_COVID-19_pandemic',\n",
    "    'https://en.wikipedia.org/wiki/Treatment_and_management_of_COVID-19',\n",
    "    'https://en.wikipedia.org/wiki/COVID-19_testing',\n",
    "    'https://en.wikipedia.org/wiki/Contact_tracing'\n",
    "]\n",
    "\n",
    "climate_urls = [\n",
    "    'https://en.wikipedia.org/wiki/Climate_change',\n",
    "    'https://en.wikipedia.org/wiki/Climate_change_in_the_Arctic',\n",
    "    'https://en.wikipedia.org/wiki/Effects_of_global_warming',\n",
    "    'https://en.wikipedia.org/wiki/Retreat_of_glaciers_since_1850',\n",
    "    'https://en.wikipedia.org/wiki/Greenhouse_gas'\n",
    "]\n",
    "\n",
    "flu_docs = [retrieveTextData(url, ['h1', 'p']) for url in flu_urls]\n",
    "covid_docs = [retrieveTextData(url, ['h1', 'p']) for url in covid_urls]\n",
    "climate_docs = [retrieveTextData(url, ['h1', 'p']) for url in climate_urls]\n",
    "\n",
    "print(len(flu_docs), len(covid_docs), len(climate_docs))"
   ]
  },
  {
   "cell_type": "code",
   "execution_count": 7,
   "metadata": {},
   "outputs": [
    {
     "name": "stdout",
     "output_type": "stream",
     "text": [
      "15 15\n"
     ]
    }
   ],
   "source": [
    "#2A B\n",
    "all_docs = flu_docs + covid_docs + climate_docs\n",
    "all_labels = (\n",
    "    ['flu'] * len(flu_docs) +\n",
    "    ['covid'] * len(covid_docs) +\n",
    "    ['climate'] * len(climate_docs)\n",
    ")\n",
    "\n",
    "print(len(all_docs), len(all_labels))"
   ]
  },
  {
   "cell_type": "code",
   "execution_count": 8,
   "metadata": {},
   "outputs": [
    {
     "data": {
      "text/html": [
       "<div>\n",
       "<style scoped>\n",
       "    .dataframe tbody tr th:only-of-type {\n",
       "        vertical-align: middle;\n",
       "    }\n",
       "\n",
       "    .dataframe tbody tr th {\n",
       "        vertical-align: top;\n",
       "    }\n",
       "\n",
       "    .dataframe thead th {\n",
       "        text-align: right;\n",
       "    }\n",
       "</style>\n",
       "<table border=\"1\" class=\"dataframe\">\n",
       "  <thead>\n",
       "    <tr style=\"text-align: right;\">\n",
       "      <th></th>\n",
       "      <th>Document</th>\n",
       "      <th>label</th>\n",
       "    </tr>\n",
       "  </thead>\n",
       "  <tbody>\n",
       "    <tr>\n",
       "      <th>4</th>\n",
       "      <td>Rapid influsenza diagnostic test Other reasons...</td>\n",
       "      <td>flu</td>\n",
       "    </tr>\n",
       "    <tr>\n",
       "      <th>13</th>\n",
       "      <td>Retreat of glaciers since 1850 The retreat of ...</td>\n",
       "      <td>climate</td>\n",
       "    </tr>\n",
       "    <tr>\n",
       "      <th>5</th>\n",
       "      <td>COVID-19 pandemic \\n The COVID-19 pandemic, al...</td>\n",
       "      <td>covid</td>\n",
       "    </tr>\n",
       "    <tr>\n",
       "      <th>7</th>\n",
       "      <td>Treatment and management of COVID-19 \\n The tr...</td>\n",
       "      <td>covid</td>\n",
       "    </tr>\n",
       "    <tr>\n",
       "      <th>12</th>\n",
       "      <td>Effects of climate change \\n \\n Climate change...</td>\n",
       "      <td>climate</td>\n",
       "    </tr>\n",
       "    <tr>\n",
       "      <th>14</th>\n",
       "      <td>Greenhouse gas \\n Greenhouse gases are the gas...</td>\n",
       "      <td>climate</td>\n",
       "    </tr>\n",
       "    <tr>\n",
       "      <th>8</th>\n",
       "      <td>COVID-19 testing \\n COVID-19 testing involves ...</td>\n",
       "      <td>covid</td>\n",
       "    </tr>\n",
       "    <tr>\n",
       "      <th>11</th>\n",
       "      <td>Climate change in the Arctic \\n Major environm...</td>\n",
       "      <td>climate</td>\n",
       "    </tr>\n",
       "    <tr>\n",
       "      <th>1</th>\n",
       "      <td>Inluenaz virus Other reasons this message may ...</td>\n",
       "      <td>flu</td>\n",
       "    </tr>\n",
       "    <tr>\n",
       "      <th>10</th>\n",
       "      <td>Climate change \\n \\n In common usage, climate ...</td>\n",
       "      <td>climate</td>\n",
       "    </tr>\n",
       "    <tr>\n",
       "      <th>2</th>\n",
       "      <td>Flu season \\n Flu season is an annually recurr...</td>\n",
       "      <td>flu</td>\n",
       "    </tr>\n",
       "    <tr>\n",
       "      <th>3</th>\n",
       "      <td>Inluenaz pandemic Other reasons this message m...</td>\n",
       "      <td>flu</td>\n",
       "    </tr>\n",
       "    <tr>\n",
       "      <th>0</th>\n",
       "      <td>Inluenaz Other reasons this message may be dis...</td>\n",
       "      <td>flu</td>\n",
       "    </tr>\n",
       "    <tr>\n",
       "      <th>6</th>\n",
       "      <td>COVID-19 misinformation \\n False information, ...</td>\n",
       "      <td>covid</td>\n",
       "    </tr>\n",
       "    <tr>\n",
       "      <th>9</th>\n",
       "      <td>Contact tracing \\n In public health, contact t...</td>\n",
       "      <td>covid</td>\n",
       "    </tr>\n",
       "  </tbody>\n",
       "</table>\n",
       "</div>"
      ],
      "text/plain": [
       "                                             Document    label\n",
       "4   Rapid influsenza diagnostic test Other reasons...      flu\n",
       "13  Retreat of glaciers since 1850 The retreat of ...  climate\n",
       "5   COVID-19 pandemic \\n The COVID-19 pandemic, al...    covid\n",
       "7   Treatment and management of COVID-19 \\n The tr...    covid\n",
       "12  Effects of climate change \\n \\n Climate change...  climate\n",
       "14  Greenhouse gas \\n Greenhouse gases are the gas...  climate\n",
       "8   COVID-19 testing \\n COVID-19 testing involves ...    covid\n",
       "11  Climate change in the Arctic \\n Major environm...  climate\n",
       "1   Inluenaz virus Other reasons this message may ...      flu\n",
       "10  Climate change \\n \\n In common usage, climate ...  climate\n",
       "2   Flu season \\n Flu season is an annually recurr...      flu\n",
       "3   Inluenaz pandemic Other reasons this message m...      flu\n",
       "0   Inluenaz Other reasons this message may be dis...      flu\n",
       "6   COVID-19 misinformation \\n False information, ...    covid\n",
       "9   Contact tracing \\n In public health, contact t...    covid"
      ]
     },
     "execution_count": 8,
     "metadata": {},
     "output_type": "execute_result"
    }
   ],
   "source": [
    "#3 a and b\n",
    "def buildCorpus(docs, labels):\n",
    "    docs = np.array(docs)\n",
    "    corpus = pd.DataFrame({'Document': docs, 'label': labels})\n",
    "    corpus = corpus.sample(len(corpus))\n",
    "    return corpus\n",
    "corpus = buildCorpus(all_docs, all_labels)\n",
    "corpus"
   ]
  },
  {
   "cell_type": "code",
   "execution_count": 9,
   "metadata": {},
   "outputs": [],
   "source": [
    "#4 a\n",
    "def reduceDocSize(doc):\n",
    "    if(len(doc) > 32000):\n",
    "        return doc[:32000]\n",
    "    return doc"
   ]
  },
  {
   "cell_type": "code",
   "execution_count": 10,
   "metadata": {},
   "outputs": [
    {
     "name": "stdout",
     "output_type": "stream",
     "text": [
      "<generator object <genexpr> at 0x0000023EEF05A7A0>\n"
     ]
    }
   ],
   "source": [
    "#4b\n",
    "corpus.Document = corpus.Document.apply(reduceDocSize)\n",
    "print([len(doc)] for doc in corpus.Document)\n"
   ]
  },
  {
   "cell_type": "code",
   "execution_count": 13,
   "metadata": {},
   "outputs": [],
   "source": [
    "#4C\n",
    "corpus.to_csv('datasets/corpus.csv', columns=['Document', 'label'], index=False)\n"
   ]
  },
  {
   "cell_type": "code",
   "execution_count": 14,
   "metadata": {},
   "outputs": [
    {
     "data": {
      "text/html": [
       "<div>\n",
       "<style scoped>\n",
       "    .dataframe tbody tr th:only-of-type {\n",
       "        vertical-align: middle;\n",
       "    }\n",
       "\n",
       "    .dataframe tbody tr th {\n",
       "        vertical-align: top;\n",
       "    }\n",
       "\n",
       "    .dataframe thead th {\n",
       "        text-align: right;\n",
       "    }\n",
       "</style>\n",
       "<table border=\"1\" class=\"dataframe\">\n",
       "  <thead>\n",
       "    <tr style=\"text-align: right;\">\n",
       "      <th></th>\n",
       "      <th>Document</th>\n",
       "      <th>label</th>\n",
       "    </tr>\n",
       "  </thead>\n",
       "  <tbody>\n",
       "    <tr>\n",
       "      <th>0</th>\n",
       "      <td>Rapid influsenza diagnostic test Other reasons...</td>\n",
       "      <td>flu</td>\n",
       "    </tr>\n",
       "    <tr>\n",
       "      <th>1</th>\n",
       "      <td>Retreat of glaciers since 1850 The retreat of ...</td>\n",
       "      <td>climate</td>\n",
       "    </tr>\n",
       "    <tr>\n",
       "      <th>2</th>\n",
       "      <td>COVID-19 pandemic \\n The COVID-19 pandemic, al...</td>\n",
       "      <td>covid</td>\n",
       "    </tr>\n",
       "    <tr>\n",
       "      <th>3</th>\n",
       "      <td>Treatment and management of COVID-19 \\n The tr...</td>\n",
       "      <td>covid</td>\n",
       "    </tr>\n",
       "    <tr>\n",
       "      <th>4</th>\n",
       "      <td>Effects of climate change \\n \\n Climate change...</td>\n",
       "      <td>climate</td>\n",
       "    </tr>\n",
       "  </tbody>\n",
       "</table>\n",
       "</div>"
      ],
      "text/plain": [
       "                                            Document    label\n",
       "0  Rapid influsenza diagnostic test Other reasons...      flu\n",
       "1  Retreat of glaciers since 1850 The retreat of ...  climate\n",
       "2  COVID-19 pandemic \\n The COVID-19 pandemic, al...    covid\n",
       "3  Treatment and management of COVID-19 \\n The tr...    covid\n",
       "4  Effects of climate change \\n \\n Climate change...  climate"
      ]
     },
     "execution_count": 14,
     "metadata": {},
     "output_type": "execute_result"
    }
   ],
   "source": [
    "#5\n",
    "data = pd.read_csv('datasets/corpus.csv')\n",
    "data.head()"
   ]
  },
  {
   "cell_type": "code",
   "execution_count": 15,
   "metadata": {},
   "outputs": [
    {
     "data": {
      "text/html": [
       "<div>\n",
       "<style scoped>\n",
       "    .dataframe tbody tr th:only-of-type {\n",
       "        vertical-align: middle;\n",
       "    }\n",
       "\n",
       "    .dataframe tbody tr th {\n",
       "        vertical-align: top;\n",
       "    }\n",
       "\n",
       "    .dataframe thead th {\n",
       "        text-align: right;\n",
       "    }\n",
       "</style>\n",
       "<table border=\"1\" class=\"dataframe\">\n",
       "  <thead>\n",
       "    <tr style=\"text-align: right;\">\n",
       "      <th></th>\n",
       "      <th>Document</th>\n",
       "      <th>label</th>\n",
       "    </tr>\n",
       "  </thead>\n",
       "  <tbody>\n",
       "    <tr>\n",
       "      <th>10</th>\n",
       "      <td>Flu season \\n Flu season is an annually recurr...</td>\n",
       "      <td>flu</td>\n",
       "    </tr>\n",
       "    <tr>\n",
       "      <th>11</th>\n",
       "      <td>Inluenaz pandemic Other reasons this message m...</td>\n",
       "      <td>flu</td>\n",
       "    </tr>\n",
       "    <tr>\n",
       "      <th>12</th>\n",
       "      <td>Inluenaz Other reasons this message may be dis...</td>\n",
       "      <td>flu</td>\n",
       "    </tr>\n",
       "    <tr>\n",
       "      <th>13</th>\n",
       "      <td>COVID-19 misinformation \\n False information, ...</td>\n",
       "      <td>covid</td>\n",
       "    </tr>\n",
       "    <tr>\n",
       "      <th>14</th>\n",
       "      <td>Contact tracing \\n In public health, contact t...</td>\n",
       "      <td>covid</td>\n",
       "    </tr>\n",
       "  </tbody>\n",
       "</table>\n",
       "</div>"
      ],
      "text/plain": [
       "                                             Document  label\n",
       "10  Flu season \\n Flu season is an annually recurr...    flu\n",
       "11  Inluenaz pandemic Other reasons this message m...    flu\n",
       "12  Inluenaz Other reasons this message may be dis...    flu\n",
       "13  COVID-19 misinformation \\n False information, ...  covid\n",
       "14  Contact tracing \\n In public health, contact t...  covid"
      ]
     },
     "execution_count": 15,
     "metadata": {},
     "output_type": "execute_result"
    }
   ],
   "source": [
    "data.tail()"
   ]
  }
 ],
 "metadata": {
  "kernelspec": {
   "display_name": ".venv",
   "language": "python",
   "name": "python3"
  },
  "language_info": {
   "codemirror_mode": {
    "name": "ipython",
    "version": 3
   },
   "file_extension": ".py",
   "mimetype": "text/x-python",
   "name": "python",
   "nbconvert_exporter": "python",
   "pygments_lexer": "ipython3",
   "version": "3.11.2"
  }
 },
 "nbformat": 4,
 "nbformat_minor": 2
}
