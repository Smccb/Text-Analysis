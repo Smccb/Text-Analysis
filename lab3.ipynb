{
 "cells": [
  {
   "cell_type": "code",
   "execution_count": null,
   "metadata": {},
   "outputs": [],
   "source": [
    "!pip install numpy\n",
    "!pip install pandas\n",
    "!pip install matplotlib\n",
    "!pip install scikit-learn\n",
    "!pip install nltk"
   ]
  },
  {
   "cell_type": "code",
   "execution_count": 12,
   "metadata": {},
   "outputs": [
    {
     "name": "stdout",
     "output_type": "stream",
     "text": [
      " Volume in drive C is Windows-SSD\n",
      " Volume Serial Number is 04E4-183E\n",
      "\n",
      " Directory of c:\\Users\\yogad\\Desktop\\Text-Analysis-labs\n",
      "\n",
      "07/02/2024  10:58    <DIR>          .\n",
      "07/02/2024  09:29    <DIR>          ..\n",
      "07/02/2024  09:29             3,238 .gitignore\n",
      "07/02/2024  10:59    <DIR>          .venv\n",
      "07/02/2024  09:29    <DIR>          datasets\n",
      "07/02/2024  09:29    <DIR>          lab sheet\n",
      "07/02/2024  09:29            70,652 lab1.ipynb\n",
      "07/02/2024  09:29            15,039 lab2.ipynb\n",
      "07/02/2024  11:04             2,514 lab3.ipynb\n",
      "07/02/2024  09:29    <DIR>          lecture notes\n",
      "07/02/2024  09:29                15 README.md\n",
      "               5 File(s)         91,458 bytes\n",
      "               6 Dir(s)  390,256,087,040 bytes free\n"
     ]
    }
   ],
   "source": [
    "import pandas as pd, numpy as mpp\n",
    "import nltk, re \n",
    "from string import punctuation\n",
    "\n",
    "from sklearn.tree import DecisionTreeClassifier\n",
    "from sklearn.neighbors import KNeighborsClassifier\n",
    "from sklearn.svm import SVC\n",
    "\n",
    "import matplotlib.pyplot as plt\n",
    "%matplotlib inline\n",
    "\n",
    "import warnings\n",
    "warnings.filterwarnings('ignore')\n",
    "\n",
    "%ls"
   ]
  },
  {
   "cell_type": "code",
   "execution_count": 13,
   "metadata": {},
   "outputs": [],
   "source": [
    "##Part A\n",
    "nouns = {\"NN\", \"NNS\", \"NNP\", \"NNPS\", \"NND\", \"NNPP\", \"NNSP\"}\n",
    "adjectives = {\"JJ\", \"JJS\", \"JJR\", \"JJD\", \"JJSS\", \"JJRR\"}\n",
    "verbs = {\"VB\", \"VBD\", \"VBG\", \"VBN\", \"VBP\", \"VBZ\", \"VBZZ\", \"VBDG\", \"VBNZ\"}\n",
    "adverbs = {\"RB\", \"RBS\", \"RBR\", \"RBRS\", \"RBD\", \"RBSS\", \"RBRR\"}"
   ]
  },
  {
   "cell_type": "code",
   "execution_count": 15,
   "metadata": {},
   "outputs": [
    {
     "name": "stdout",
     "output_type": "stream",
     "text": [
      "[<re.Match object; span=(0, 3), match='NNS'>, None, None, <re.Match object; span=(0, 4), match='NNPS'>, None, <re.Match object; span=(0, 3), match='NNP'>, <re.Match object; span=(0, 2), match='NN'>]\n",
      "[['JJS'], [], ['JJR'], [], [], ['JJ']]\n",
      "[['VB'], [], [], ['VBP'], ['VBG'], [], ['VBZ'], ['VBD'], ['VBN']]\n",
      "[['RBS'], [], [], ['RB'], ['RBR'], [], []]\n"
     ]
    }
   ],
   "source": [
    "nouns_regex = r'(\\bNN[SP]?\\b)|(\\bNNPS\\b)'\n",
    "print([re.fullmatch(nouns_regex, noun) for noun in nouns])\n",
    "\n",
    "adjectives_regex = r'(\\bJJ[RS]?\\b)'\n",
    "print([re.findall(adjectives_regex, adjective) for adjective in adjectives])\n",
    "\n",
    "verbs_regex = r'(\\bVB[DGNPZ]?\\b)'\n",
    "print([re.findall(verbs_regex, verb) for verb in verbs])\n",
    "\n",
    "adverbs_regex = r'(\\bRB[RS]?\\b)'\n",
    "print([re.findall(adverbs_regex, adverb) for adverb in adverbs])\n"
   ]
  },
  {
   "cell_type": "code",
   "execution_count": 17,
   "metadata": {},
   "outputs": [
    {
     "data": {
      "text/html": [
       "<div>\n",
       "<style scoped>\n",
       "    .dataframe tbody tr th:only-of-type {\n",
       "        vertical-align: middle;\n",
       "    }\n",
       "\n",
       "    .dataframe tbody tr th {\n",
       "        vertical-align: top;\n",
       "    }\n",
       "\n",
       "    .dataframe thead th {\n",
       "        text-align: right;\n",
       "    }\n",
       "</style>\n",
       "<table border=\"1\" class=\"dataframe\">\n",
       "  <thead>\n",
       "    <tr style=\"text-align: right;\">\n",
       "      <th></th>\n",
       "      <th>Document</th>\n",
       "      <th>label</th>\n",
       "    </tr>\n",
       "  </thead>\n",
       "  <tbody>\n",
       "    <tr>\n",
       "      <th>6</th>\n",
       "      <td>COVID-19 testing \\r\\n COVID-19 testing involve...</td>\n",
       "      <td>covid</td>\n",
       "    </tr>\n",
       "    <tr>\n",
       "      <th>9</th>\n",
       "      <td>Climate change \\r\\n \\r\\n In common usage, clim...</td>\n",
       "      <td>climate</td>\n",
       "    </tr>\n",
       "    <tr>\n",
       "      <th>3</th>\n",
       "      <td>Treatment and management of COVID-19 \\r\\n The ...</td>\n",
       "      <td>covid</td>\n",
       "    </tr>\n",
       "  </tbody>\n",
       "</table>\n",
       "</div>"
      ],
      "text/plain": [
       "                                            Document    label\n",
       "6  COVID-19 testing \\r\\n COVID-19 testing involve...    covid\n",
       "9  Climate change \\r\\n \\r\\n In common usage, clim...  climate\n",
       "3  Treatment and management of COVID-19 \\r\\n The ...    covid"
      ]
     },
     "execution_count": 17,
     "metadata": {},
     "output_type": "execute_result"
    }
   ],
   "source": [
    "##Part B\n",
    "\n",
    "#1.\n",
    "data = pd.read_csv(\"datasets/corpus.csv\")\n",
    "data.sample(3)"
   ]
  },
  {
   "cell_type": "code",
   "execution_count": 34,
   "metadata": {},
   "outputs": [
    {
     "data": {
      "text/plain": [
       "('Rapid influsenza diagnostic test Other reasons this message may be displayed:\\r\\nInluenaz virus Other ',\n",
       " 'COVID-19 pandemic \\r\\n The COVID-19 pandemic, also known as the coronavirus pandemic, is a global pand',\n",
       " 'Retreat of glaciers since 1850 The retreat of glaciers since 1850 is well documented and is one of t')"
      ]
     },
     "execution_count": 34,
     "metadata": {},
     "output_type": "execute_result"
    }
   ],
   "source": [
    "#2.\n",
    "flu_all = ''.join(data.Document[data.label == 'flu'])\n",
    "covid_all = ''.join(data.Document[data.label == 'covid'])\n",
    "climate_all = ''.join(data.Document[data.label == 'climate'])\n",
    "\n",
    "#output first 100\n",
    "flu_all[:100], covid_all[:100], climate_all[:100]"
   ]
  },
  {
   "cell_type": "code",
   "execution_count": 19,
   "metadata": {},
   "outputs": [
    {
     "name": "stderr",
     "output_type": "stream",
     "text": [
      "[nltk_data] Downloading package punkt to\n",
      "[nltk_data]     C:\\Users\\yogad\\AppData\\Roaming\\nltk_data...\n",
      "[nltk_data]   Unzipping tokenizers\\punkt.zip.\n",
      "[nltk_data] Downloading package averaged_perceptron_tagger to\n",
      "[nltk_data]     C:\\Users\\yogad\\AppData\\Roaming\\nltk_data...\n",
      "[nltk_data]   Unzipping taggers\\averaged_perceptron_tagger.zip.\n"
     ]
    },
    {
     "data": {
      "text/plain": [
       "True"
      ]
     },
     "execution_count": 19,
     "metadata": {},
     "output_type": "execute_result"
    }
   ],
   "source": [
    "#optional\n",
    "nltk.download('punkt')\n",
    "nltk.download('averaged_perceptron_tagger')\n"
   ]
  },
  {
   "cell_type": "code",
   "execution_count": 35,
   "metadata": {},
   "outputs": [
    {
     "data": {
      "image/png": "[encoded data removed]",
      "text/plain": [
       "<Figure size 640x480 with 1 Axes>"
      ]
     },
     "metadata": {},
     "output_type": "display_data"
    }
   ],
   "source": [
    "#3\n",
    "import text_mining_utils as tmu\n",
    "all_texts = [flu_all, covid_all, climate_all]\n",
    "\n",
    "tmu.plotPOSFreq(all_texts, 'CD', ['flu', 'covid', 'climate'])"
   ]
  },
  {
   "cell_type": "code",
   "execution_count": 36,
   "metadata": {},
   "outputs": [
    {
     "data": {
      "image/png": "[encoded data removed]",
      "text/plain": [
       "<Figure size 640x480 with 1 Axes>"
      ]
     },
     "metadata": {},
     "output_type": "display_data"
    }
   ],
   "source": [
    "tmu.plotPOSFreq(all_texts, 'MD', ['flu', 'covid', 'climate'])"
   ]
  },
  {
   "cell_type": "code",
   "execution_count": 37,
   "metadata": {},
   "outputs": [
    {
     "data": {
      "image/png": "[encoded data removed]",
      "text/plain": [
       "<Figure size 640x480 with 1 Axes>"
      ]
     },
     "metadata": {},
     "output_type": "display_data"
    }
   ],
   "source": [
    "tmu.plotPOSFreq(all_texts, 'VB', ['flu', 'covid', 'climate'])"
   ]
  },
  {
   "cell_type": "code",
   "execution_count": 38,
   "metadata": {},
   "outputs": [
    {
     "data": {
      "text/html": [
       "<div>\n",
       "<style scoped>\n",
       "    .dataframe tbody tr th:only-of-type {\n",
       "        vertical-align: middle;\n",
       "    }\n",
       "\n",
       "    .dataframe tbody tr th {\n",
       "        vertical-align: top;\n",
       "    }\n",
       "\n",
       "    .dataframe thead th {\n",
       "        text-align: right;\n",
       "    }\n",
       "</style>\n",
       "<table border=\"1\" class=\"dataframe\">\n",
       "  <thead>\n",
       "    <tr style=\"text-align: right;\">\n",
       "      <th></th>\n",
       "      <th>\"</th>\n",
       "      <th>#</th>\n",
       "      <th>$</th>\n",
       "      <th>%</th>\n",
       "      <th>&amp;</th>\n",
       "      <th>'</th>\n",
       "      <th>(</th>\n",
       "      <th>)</th>\n",
       "      <th>+</th>\n",
       "      <th>,</th>\n",
       "      <th>...</th>\n",
       "      <th>β</th>\n",
       "      <th>μmol</th>\n",
       "      <th>τ</th>\n",
       "      <th>‐</th>\n",
       "      <th>‑</th>\n",
       "      <th>–</th>\n",
       "      <th>—</th>\n",
       "      <th>⁄</th>\n",
       "      <th>−</th>\n",
       "      <th>≈</th>\n",
       "    </tr>\n",
       "  </thead>\n",
       "  <tbody>\n",
       "    <tr>\n",
       "      <th>0</th>\n",
       "      <td>0</td>\n",
       "      <td>0</td>\n",
       "      <td>0</td>\n",
       "      <td>0</td>\n",
       "      <td>0</td>\n",
       "      <td>0</td>\n",
       "      <td>0</td>\n",
       "      <td>0</td>\n",
       "      <td>0</td>\n",
       "      <td>0</td>\n",
       "      <td>...</td>\n",
       "      <td>0</td>\n",
       "      <td>0</td>\n",
       "      <td>0</td>\n",
       "      <td>0</td>\n",
       "      <td>0</td>\n",
       "      <td>0</td>\n",
       "      <td>0</td>\n",
       "      <td>0</td>\n",
       "      <td>0</td>\n",
       "      <td>0</td>\n",
       "    </tr>\n",
       "    <tr>\n",
       "      <th>1</th>\n",
       "      <td>2</td>\n",
       "      <td>0</td>\n",
       "      <td>0</td>\n",
       "      <td>16</td>\n",
       "      <td>0</td>\n",
       "      <td>1</td>\n",
       "      <td>86</td>\n",
       "      <td>85</td>\n",
       "      <td>0</td>\n",
       "      <td>273</td>\n",
       "      <td>...</td>\n",
       "      <td>0</td>\n",
       "      <td>0</td>\n",
       "      <td>0</td>\n",
       "      <td>0</td>\n",
       "      <td>0</td>\n",
       "      <td>7</td>\n",
       "      <td>3</td>\n",
       "      <td>0</td>\n",
       "      <td>0</td>\n",
       "      <td>0</td>\n",
       "    </tr>\n",
       "    <tr>\n",
       "      <th>2</th>\n",
       "      <td>44</td>\n",
       "      <td>0</td>\n",
       "      <td>0</td>\n",
       "      <td>20</td>\n",
       "      <td>0</td>\n",
       "      <td>1</td>\n",
       "      <td>49</td>\n",
       "      <td>49</td>\n",
       "      <td>1</td>\n",
       "      <td>327</td>\n",
       "      <td>...</td>\n",
       "      <td>0</td>\n",
       "      <td>0</td>\n",
       "      <td>0</td>\n",
       "      <td>0</td>\n",
       "      <td>4</td>\n",
       "      <td>2</td>\n",
       "      <td>1</td>\n",
       "      <td>0</td>\n",
       "      <td>0</td>\n",
       "      <td>5</td>\n",
       "    </tr>\n",
       "    <tr>\n",
       "      <th>3</th>\n",
       "      <td>4</td>\n",
       "      <td>0</td>\n",
       "      <td>0</td>\n",
       "      <td>8</td>\n",
       "      <td>0</td>\n",
       "      <td>3</td>\n",
       "      <td>19</td>\n",
       "      <td>19</td>\n",
       "      <td>0</td>\n",
       "      <td>165</td>\n",
       "      <td>...</td>\n",
       "      <td>1</td>\n",
       "      <td>0</td>\n",
       "      <td>0</td>\n",
       "      <td>1</td>\n",
       "      <td>0</td>\n",
       "      <td>0</td>\n",
       "      <td>0</td>\n",
       "      <td>0</td>\n",
       "      <td>0</td>\n",
       "      <td>0</td>\n",
       "    </tr>\n",
       "    <tr>\n",
       "      <th>4</th>\n",
       "      <td>2</td>\n",
       "      <td>0</td>\n",
       "      <td>0</td>\n",
       "      <td>19</td>\n",
       "      <td>0</td>\n",
       "      <td>1</td>\n",
       "      <td>36</td>\n",
       "      <td>36</td>\n",
       "      <td>2</td>\n",
       "      <td>153</td>\n",
       "      <td>...</td>\n",
       "      <td>0</td>\n",
       "      <td>0</td>\n",
       "      <td>0</td>\n",
       "      <td>0</td>\n",
       "      <td>0</td>\n",
       "      <td>21</td>\n",
       "      <td>0</td>\n",
       "      <td>2</td>\n",
       "      <td>0</td>\n",
       "      <td>0</td>\n",
       "    </tr>\n",
       "  </tbody>\n",
       "</table>\n",
       "<p>5 rows × 6813 columns</p>\n",
       "</div>"
      ],
      "text/plain": [
       "    \"  #  $   %  &  '   (   )  +    ,  ...  β  μmol  τ  ‐  ‑   –  —  ⁄  −  ≈\n",
       "0   0  0  0   0  0  0   0   0  0    0  ...  0     0  0  0  0   0  0  0  0  0\n",
       "1   2  0  0  16  0  1  86  85  0  273  ...  0     0  0  0  0   7  3  0  0  0\n",
       "2  44  0  0  20  0  1  49  49  1  327  ...  0     0  0  0  4   2  1  0  0  5\n",
       "3   4  0  0   8  0  3  19  19  0  165  ...  1     0  0  1  0   0  0  0  0  0\n",
       "4   2  0  0  19  0  1  36  36  2  153  ...  0     0  0  0  0  21  0  2  0  0\n",
       "\n",
       "[5 rows x 6813 columns]"
      ]
     },
     "execution_count": 38,
     "metadata": {},
     "output_type": "execute_result"
    }
   ],
   "source": [
    "##Part C\n",
    "# 1. a)\n",
    "\n",
    "count_matrix = tmu.build_count_matrix(data.Document)\n",
    "count_matrix.head()"
   ]
  },
  {
   "cell_type": "code",
   "execution_count": 39,
   "metadata": {},
   "outputs": [
    {
     "data": {
      "text/plain": [
       "(15, 6813)"
      ]
     },
     "execution_count": 39,
     "metadata": {},
     "output_type": "execute_result"
    }
   ],
   "source": [
    "#1 b, c)\n",
    "count_matrix.shape"
   ]
  },
  {
   "cell_type": "code",
   "execution_count": 40,
   "metadata": {},
   "outputs": [
    {
     "name": "stdout",
     "output_type": "stream",
     "text": [
      "              precision    recall  f1-score   support\n",
      "\n",
      "     climate       0.50      0.20      0.29         5\n",
      "       covid       0.43      0.60      0.50         5\n",
      "         flu       0.67      0.80      0.73         5\n",
      "\n",
      "    accuracy                           0.53        15\n",
      "   macro avg       0.53      0.53      0.50        15\n",
      "weighted avg       0.53      0.53      0.50        15\n",
      "\n"
     ]
    }
   ],
   "source": [
    "#2 a, b c)\n",
    "y= data.label\n",
    "dt_clf = DecisionTreeClassifier(random_state=1)\n",
    "tmu.printClassifReport(dt_clf, count_matrix, y)"
   ]
  },
  {
   "cell_type": "code",
   "execution_count": 41,
   "metadata": {},
   "outputs": [
    {
     "name": "stdout",
     "output_type": "stream",
     "text": [
      "              precision    recall  f1-score   support\n",
      "\n",
      "     climate       1.00      0.40      0.57         5\n",
      "       covid       0.62      1.00      0.77         5\n",
      "         flu       1.00      1.00      1.00         5\n",
      "\n",
      "    accuracy                           0.80        15\n",
      "   macro avg       0.88      0.80      0.78        15\n",
      "weighted avg       0.88      0.80      0.78        15\n",
      "\n"
     ]
    }
   ],
   "source": [
    "#3.\n",
    "knn_clf = KNeighborsClassifier()\n",
    "tmu.printClassifReport(knn_clf, count_matrix, y)"
   ]
  },
  {
   "cell_type": "code",
   "execution_count": 43,
   "metadata": {},
   "outputs": [
    {
     "name": "stdout",
     "output_type": "stream",
     "text": [
      "              precision    recall  f1-score   support\n",
      "\n",
      "     climate       1.00      0.80      0.89         5\n",
      "       covid       0.71      1.00      0.83         5\n",
      "         flu       1.00      0.80      0.89         5\n",
      "\n",
      "    accuracy                           0.87        15\n",
      "   macro avg       0.90      0.87      0.87        15\n",
      "weighted avg       0.90      0.87      0.87        15\n",
      "\n"
     ]
    }
   ],
   "source": [
    "#3.\n",
    "svm_clf = SVC(random_state=1)\n",
    "tmu.printClassifReport(svm_clf, count_matrix, y)\n"
   ]
  }
 ],
 "metadata": {
  "kernelspec": {
   "display_name": "Python 3",
   "language": "python",
   "name": "python3"
  },
  "language_info": {
   "codemirror_mode": {
    "name": "ipython",
    "version": 3
   },
   "file_extension": ".py",
   "mimetype": "text/x-python",
   "name": "python",
   "nbconvert_exporter": "python",
   "pygments_lexer": "ipython3",
   "version": "3.11.0"
  }
 },
 "nbformat": 4,
 "nbformat_minor": 2
}
