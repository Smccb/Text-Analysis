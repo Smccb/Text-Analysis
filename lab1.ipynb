{
 "cells": [
  {
   "cell_type": "code",
   "execution_count": 48,
   "metadata": {},
   "outputs": [],
   "source": [
    "import pandas as pd, numpy as np\n",
    "import nltk, re\n",
    "from string import punctuation\n"
   ]
  },
  {
   "cell_type": "code",
   "execution_count": 49,
   "metadata": {},
   "outputs": [],
   "source": [
    "import matplotlib.pyplot as plt\n",
    "%matplotlib inline"
   ]
  },
  {
   "cell_type": "code",
   "execution_count": 50,
   "metadata": {},
   "outputs": [],
   "source": [
    "import warnings\n",
    "warnings.filterwarnings('ignore')"
   ]
  },
  {
   "cell_type": "code",
   "execution_count": 51,
   "metadata": {},
   "outputs": [],
   "source": [
    "data = pd.read_csv('datasets/spam_short.csv')"
   ]
  },
  {
   "cell_type": "code",
   "execution_count": 52,
   "metadata": {},
   "outputs": [
    {
     "name": "stdout",
     "output_type": "stream",
     "text": [
      "     v1                                                 v2\n",
      "0   ham  Go until jurong point, crazy.. Available only ...\n",
      "1   ham                      Ok lar... Joking wif u oni...\n",
      "2  spam  Free entry in 2 a wkly comp to win FA Cup fina...\n",
      "3   ham  U dun say so early hor... U c already then say...\n",
      "4   ham  Nah I don't think he goes to usf, he lives aro...\n",
      "       v1                                                 v2\n",
      "150   ham                          Ok... Ur typical reply...\n",
      "151   ham  As per your request 'Melle Melle (Oru Minnamin...\n",
      "152   ham  You are everywhere dirt, on the floor, the win...\n",
      "153   ham                       Aaooooright are you at work?\n",
      "154   ham                        I'm leaving my house now...\n",
      "155   ham  Hello, my love. What are you doing? Did you ge...\n",
      "156  spam  Customer service annoncement. You have a New Y...\n",
      "157  spam  You are a winner U have been specially selecte...\n",
      "158   ham  Keep yourself safe for me because I need you a...\n",
      "159   ham  New car and house for my parents.:)i have only...\n",
      "      v1                                                 v2\n",
      "46   ham      Didn't you get hep b immunisation in nigeria.\n",
      "96   ham                  Watching telugu movie..wat abt u?\n",
      "90   ham  Yeah do! Don‰Û÷t stand to close tho- you‰Û÷ll ...\n",
      "33   ham  For fear of fainting with the of all that hous...\n",
      "147  ham                     Sindu got job in birla soft ..\n",
      "125  ham                               Good stuff, will do.\n",
      "110  ham           What is the plural of the noun research?\n",
      "       v1                                                 v2\n",
      "34   spam  Thanks for your subscription to Ringtone UK yo...\n",
      "57    ham                 Sorry, I'll call later in meeting.\n",
      "109   ham                     Dont worry. I guess he's busy.\n"
     ]
    }
   ],
   "source": [
    "print(data.head(5))\n",
    "print(data.tail(10))\n",
    "print(data.sample(7))\n",
    "print(data.iloc[[34, 57, 109]])"
   ]
  },
  {
   "cell_type": "code",
   "execution_count": 53,
   "metadata": {},
   "outputs": [
    {
     "name": "stdout",
     "output_type": "stream",
     "text": [
      "<class 'pandas.core.frame.DataFrame'>\n",
      "RangeIndex: 160 entries, 0 to 159\n",
      "Data columns (total 2 columns):\n",
      " #   Column  Non-Null Count  Dtype \n",
      "---  ------  --------------  ----- \n",
      " 0   v1      160 non-null    object\n",
      " 1   v2      160 non-null    object\n",
      "dtypes: object(2)\n",
      "memory usage: 2.6+ KB\n"
     ]
    }
   ],
   "source": [
    "#4\n",
    "data.info()"
   ]
  },
  {
   "cell_type": "code",
   "execution_count": 54,
   "metadata": {},
   "outputs": [
    {
     "data": {
      "text/html": [
       "<div>\n",
       "<style scoped>\n",
       "    .dataframe tbody tr th:only-of-type {\n",
       "        vertical-align: middle;\n",
       "    }\n",
       "\n",
       "    .dataframe tbody tr th {\n",
       "        vertical-align: top;\n",
       "    }\n",
       "\n",
       "    .dataframe thead th {\n",
       "        text-align: right;\n",
       "    }\n",
       "</style>\n",
       "<table border=\"1\" class=\"dataframe\">\n",
       "  <thead>\n",
       "    <tr style=\"text-align: right;\">\n",
       "      <th></th>\n",
       "      <th>v1</th>\n",
       "      <th>v2</th>\n",
       "    </tr>\n",
       "  </thead>\n",
       "  <tbody>\n",
       "    <tr>\n",
       "      <th>count</th>\n",
       "      <td>160</td>\n",
       "      <td>160</td>\n",
       "    </tr>\n",
       "    <tr>\n",
       "      <th>unique</th>\n",
       "      <td>2</td>\n",
       "      <td>158</td>\n",
       "    </tr>\n",
       "    <tr>\n",
       "      <th>top</th>\n",
       "      <td>ham</td>\n",
       "      <td>As per your request 'Melle Melle (Oru Minnamin...</td>\n",
       "    </tr>\n",
       "    <tr>\n",
       "      <th>freq</th>\n",
       "      <td>133</td>\n",
       "      <td>3</td>\n",
       "    </tr>\n",
       "  </tbody>\n",
       "</table>\n",
       "</div>"
      ],
      "text/plain": [
       "         v1                                                 v2\n",
       "count   160                                                160\n",
       "unique    2                                                158\n",
       "top     ham  As per your request 'Melle Melle (Oru Minnamin...\n",
       "freq    133                                                  3"
      ]
     },
     "execution_count": 54,
     "metadata": {},
     "output_type": "execute_result"
    }
   ],
   "source": [
    "#5\n",
    "stats = data.describe()\n",
    "stats"
   ]
  },
  {
   "cell_type": "code",
   "execution_count": 55,
   "metadata": {},
   "outputs": [
    {
     "name": "stdout",
     "output_type": "stream",
     "text": [
      "As per your request 'Melle Melle (Oru Minnaminunginte Nurungu Vettam)' has been set as your callertune for all Callers. Press *9 to copy your friends Callertune\n",
      "(158, 2)\n"
     ]
    },
    {
     "data": {
      "text/html": [
       "<div>\n",
       "<style scoped>\n",
       "    .dataframe tbody tr th:only-of-type {\n",
       "        vertical-align: middle;\n",
       "    }\n",
       "\n",
       "    .dataframe tbody tr th {\n",
       "        vertical-align: top;\n",
       "    }\n",
       "\n",
       "    .dataframe thead th {\n",
       "        text-align: right;\n",
       "    }\n",
       "</style>\n",
       "<table border=\"1\" class=\"dataframe\">\n",
       "  <thead>\n",
       "    <tr style=\"text-align: right;\">\n",
       "      <th></th>\n",
       "      <th>v1</th>\n",
       "      <th>v2</th>\n",
       "    </tr>\n",
       "  </thead>\n",
       "  <tbody>\n",
       "    <tr>\n",
       "      <th>count</th>\n",
       "      <td>158</td>\n",
       "      <td>158</td>\n",
       "    </tr>\n",
       "    <tr>\n",
       "      <th>unique</th>\n",
       "      <td>2</td>\n",
       "      <td>158</td>\n",
       "    </tr>\n",
       "    <tr>\n",
       "      <th>top</th>\n",
       "      <td>ham</td>\n",
       "      <td>Go until jurong point, crazy.. Available only ...</td>\n",
       "    </tr>\n",
       "    <tr>\n",
       "      <th>freq</th>\n",
       "      <td>131</td>\n",
       "      <td>1</td>\n",
       "    </tr>\n",
       "  </tbody>\n",
       "</table>\n",
       "</div>"
      ],
      "text/plain": [
       "         v1                                                 v2\n",
       "count   158                                                158\n",
       "unique    2                                                158\n",
       "top     ham  Go until jurong point, crazy.. Available only ...\n",
       "freq    131                                                  1"
      ]
     },
     "execution_count": 55,
     "metadata": {},
     "output_type": "execute_result"
    }
   ],
   "source": [
    "#6\n",
    "duplicate_email = stats['v2'].loc['top']\n",
    "print(duplicate_email)\n",
    "data[data.v2 == duplicate_email]\n",
    "\n",
    "data = data.drop_duplicates(subset=['v2'])\n",
    "print(data.shape)\n",
    "new_stats = data.describe()\n",
    "new_stats"
   ]
  },
  {
   "cell_type": "code",
   "execution_count": 56,
   "metadata": {},
   "outputs": [
    {
     "data": {
      "text/plain": [
       "Text(0.5, 1.0, 'Class distribution')"
      ]
     },
     "execution_count": 56,
     "metadata": {},
     "output_type": "execute_result"
    },
    {
     "data": {
      "image/png": "[encoded data removed]",
      "text/plain": [
       "<Figure size 640x480 with 1 Axes>"
      ]
     },
     "metadata": {},
     "output_type": "display_data"
    }
   ],
   "source": [
    "ham_perc = new_stats['v1'].loc['freq']/new_stats['v1'].loc['count'] * 100\n",
    "spam_perc = 100 - ham_perc\n",
    "plt.bar(['ham', 'spam'], [ham_perc, spam_perc])\n",
    "plt.ylabel('%')\n",
    "plt.title('Class distribution')"
   ]
  },
  {
   "cell_type": "code",
   "execution_count": 57,
   "metadata": {},
   "outputs": [
    {
     "name": "stdout",
     "output_type": "stream",
     "text": [
      "I'm back &amp; we're packing the car now, I'll let you know if there's room\n"
     ]
    },
    {
     "data": {
      "text/plain": [
       "(str, 75)"
      ]
     },
     "execution_count": 57,
     "metadata": {},
     "output_type": "execute_result"
    }
   ],
   "source": [
    "#7 a\n",
    "message = data['v2'].iloc[28]\n",
    "print(message)\n",
    "type(message), len(message)"
   ]
  },
  {
   "cell_type": "code",
   "execution_count": 58,
   "metadata": {},
   "outputs": [
    {
     "name": "stdout",
     "output_type": "stream",
     "text": [
      "!\"#$%&'()*+,-./:;<=>?@[\\]^_`{|}~\n"
     ]
    }
   ],
   "source": [
    "#7b\n",
    "print(punctuation)"
   ]
  },
  {
   "cell_type": "code",
   "execution_count": 59,
   "metadata": {},
   "outputs": [
    {
     "name": "stdout",
     "output_type": "stream",
     "text": [
      "I'm back &amp; we're packing the car now, I'll let you know if there's room\n"
     ]
    }
   ],
   "source": [
    "regex = r'[!\"#$%&\\'()*+,-./:;<=>?@[\\\\]^_`{|}~]'\n",
    "message = re.sub(regex, ' ', message)\n",
    "print(message)\n"
   ]
  },
  {
   "cell_type": "code",
   "execution_count": 60,
   "metadata": {},
   "outputs": [],
   "source": [
    "#8\n",
    "spam_df = data[data.v1 == 'spam']\n",
    "ham_df = data[data.v1 == 'ham']"
   ]
  },
  {
   "cell_type": "code",
   "execution_count": 61,
   "metadata": {},
   "outputs": [
    {
     "name": "stdout",
     "output_type": "stream",
     "text": [
      "[\"Free entry in 2 a wkly comp to win FA Cup final tkts 21st May 2005. Text FA to 87121 to receive entry question(std txt rate)T&C's apply 08452810075over18's\", \"FreeMsg Hey there darling it's been 3 week's now and no word back! I'd like some fun you up for it still? Tb ok! XxX std chgs to send, å£1.50 to rcv\", 'WINNER!! As a valued network customer you have been selected to receivea å£900 prize reward! To claim call 09061701461. Claim code KL341. Valid 12 hours only.', 'Had your mobile 11 months or more? U R entitled to Update to the latest colour mobiles with camera for Free! Call The Mobile Update Co FREE on 08002986030', 'SIX chances to win CASH! From 100 to 20,000 pounds txt> CSH11 and send to 87575. Cost 150p/day, 6days, 16+ TsandCs apply Reply HL 4 info']\n",
      "['Go until jurong point, crazy.. Available only in bugis n great world la e buffet... Cine there got amore wat...', 'Ok lar... Joking wif u oni...', 'U dun say so early hor... U c already then say...', \"Nah I don't think he goes to usf, he lives around here though\", 'Even my brother is not like to speak with me. They treat me like aids patent.']\n"
     ]
    }
   ],
   "source": [
    "#9\n",
    "spam_emails = list(spam_df.v2)\n",
    "ham_emails = list(ham_df.v2)\n",
    "print(spam_emails[:5])\n",
    "print(ham_emails[:5])"
   ]
  },
  {
   "cell_type": "code",
   "execution_count": 62,
   "metadata": {},
   "outputs": [
    {
     "name": "stdout",
     "output_type": "stream",
     "text": [
      "[\"Free entry in  DIGITS  a wkly comp to win FA Cup final tkts  DIGITS st May  DIGITS . Text FA to  DIGITS  to receive entry question(std txt rate)T&C's apply  DIGITS over DIGITS 's\", \"FreeMsg Hey there darling it's been  DIGITS  week's now and no word back! I'd like some fun you up for it still? Tb ok! XxX std chgs to send, å£ DIGITS . DIGITS  to rcv\", 'WINNER!! As a valued network customer you have been selected to receivea å£ DIGITS  prize reward! To claim call  DIGITS . Claim code KL DIGITS . Valid  DIGITS  hours only.', 'Had your mobile  DIGITS  months or more? U R entitled to Update to the latest colour mobiles with camera for Free! Call The Mobile Update Co FREE on  DIGITS ', 'SIX chances to win CASH! From  DIGITS  to  DIGITS , DIGITS  pounds txt> CSH DIGITS  and send to  DIGITS . Cost  DIGITS p/day,  DIGITS days,  DIGITS + TsandCs apply Reply HL  DIGITS  info']\n",
      "['Go until jurong point, crazy.. Available only in bugis n great world la e buffet... Cine there got amore wat...', 'Ok lar... Joking wif u oni...', 'U dun say so early hor... U c already then say...', \"Nah I don't think he goes to usf, he lives around here though\", 'Even my brother is not like to speak with me. They treat me like aids patent.']\n"
     ]
    }
   ],
   "source": [
    "#10\n",
    "spam_digit_emails = [re.sub(r'\\d+', ' DIGITS ', email) for email in spam_emails]\n",
    "\n",
    "ham_digit_emails = [re.sub(r'\\d+', ' DIGITS ', email) for email in ham_emails]\n",
    "\n",
    "print(spam_digit_emails[:5])\n",
    "print(ham_digit_emails[:5])"
   ]
  },
  {
   "cell_type": "code",
   "execution_count": 63,
   "metadata": {},
   "outputs": [
    {
     "name": "stderr",
     "output_type": "stream",
     "text": [
      "[nltk_data] Downloading package punkt to\n",
      "[nltk_data]     C:\\Users\\Sarah\\AppData\\Roaming\\nltk_data...\n",
      "[nltk_data]   Package punkt is already up-to-date!\n"
     ]
    },
    {
     "data": {
      "text/plain": [
       "True"
      ]
     },
     "execution_count": 63,
     "metadata": {},
     "output_type": "execute_result"
    }
   ],
   "source": [
    "nltk.download('punkt')"
   ]
  },
  {
   "cell_type": "code",
   "execution_count": 64,
   "metadata": {},
   "outputs": [],
   "source": [
    "#10b\n",
    "def token_percentage(token, texts):\n",
    "    token_count = 0\n",
    "    all_tokens_count = 0\n",
    "    for text in texts:\n",
    "        tokens = nltk.word_tokenize(text)\n",
    "        token_count += tokens.count(tokens)\n",
    "        all_tokens_count += len(tokens)\n",
    "    return token_count/all_tokens_count * 100\n",
    "\n",
    "\n"
   ]
  },
  {
   "cell_type": "code",
   "execution_count": 65,
   "metadata": {},
   "outputs": [
    {
     "data": {
      "text/plain": [
       "Text(0.5, 1.0, 'Distribution of DIGITS occurrences by class')"
      ]
     },
     "execution_count": 65,
     "metadata": {},
     "output_type": "execute_result"
    },
    {
     "data": {
      "image/png": "[encoded data removed]",
      "text/plain": [
       "<Figure size 640x480 with 1 Axes>"
      ]
     },
     "metadata": {},
     "output_type": "display_data"
    }
   ],
   "source": [
    "#10c\n",
    "perc_spam_digits = token_percentage(\"DIGITS\", spam_digit_emails)\n",
    "perc_ham_digits = token_percentage(\"DIGITS\", ham_digit_emails)\n",
    "\n",
    "plt.bar(['ham', 'spam'], [perc_ham_digits, perc_spam_digits])\n",
    "plt.ylabel(\"%\")\n",
    "plt.title(\"Distribution of DIGITS occurrences by class\")"
   ]
  },
  {
   "cell_type": "code",
   "execution_count": 66,
   "metadata": {},
   "outputs": [
    {
     "data": {
      "text/plain": [
       "Text(0.5, 1.0, 'Distribution of FREE occurences by class')"
      ]
     },
     "execution_count": 66,
     "metadata": {},
     "output_type": "execute_result"
    },
    {
     "data": {
      "image/png": "[encoded data removed]",
      "text/plain": [
       "<Figure size 640x480 with 1 Axes>"
      ]
     },
     "metadata": {},
     "output_type": "display_data"
    }
   ],
   "source": [
    "#10d\n",
    "perc_spam_free = token_percentage(\"FREE\", spam_digit_emails)\n",
    "perc_ham_free = token_percentage(\"FREE\", ham_digit_emails)\n",
    "plt.bar(['ham', 'spam'], [perc_ham_free, perc_spam_free])\n",
    "plt.ylabel(\"%\")\n",
    "plt.title(\"Distribution of FREE occurences by class\")"
   ]
  }
 ],
 "metadata": {
  "kernelspec": {
   "display_name": "Python 3",
   "language": "python",
   "name": "python3"
  },
  "language_info": {
   "codemirror_mode": {
    "name": "ipython",
    "version": 3
   },
   "file_extension": ".py",
   "mimetype": "text/x-python",
   "name": "python",
   "nbconvert_exporter": "python",
   "pygments_lexer": "ipython3",
   "version": "3.11.2"
  }
 },
 "nbformat": 4,
 "nbformat_minor": 2
}
